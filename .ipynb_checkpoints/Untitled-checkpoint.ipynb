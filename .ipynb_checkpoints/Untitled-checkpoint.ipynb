{
 "cells": [
  {
   "cell_type": "code",
   "execution_count": 1,
   "id": "094000ed-c39b-40b2-aefa-5aed666bd423",
   "metadata": {},
   "outputs": [],
   "source": [
    "import pandas as pd\n",
    "import numpy as np"
   ]
  },
  {
   "cell_type": "code",
   "execution_count": 2,
   "id": "2fee25f8-de5f-40f5-92ed-a964ddfdad00",
   "metadata": {},
   "outputs": [
    {
     "name": "stdout",
     "output_type": "stream",
     "text": [
      "     bond_name  risk_score\n",
      "0  govt_bond_1         1.6\n",
      "1  govt_bond_2         0.9\n",
      "2  govt_bond_3         2.3\n",
      "3   pvt_bond_1         3.0\n",
      "4   pvt_bond_2         2.7\n",
      "5   pvt_bond_3         1.8\n",
      "6   pvt_bond_4         4.1\n"
     ]
    }
   ],
   "source": [
    "raw_data = {'bond_name': ['govt_bond_1', 'govt_bond_2', 'govt_bond_3', 'pvt_bond_1', 'pvt_bond_2', 'pvt_bond_3', 'pvt_bond_4'], 'risk_score': [1.6, 0.9, 2.3, 3.0, 2.7, 1.8, 4.1]}\n",
    "\n",
    "df = pd.DataFrame(raw_data, columns = ['bond_name', 'risk_score'])\n",
    "\n",
    "print(df)"
   ]
  },
  {
   "cell_type": "code",
   "execution_count": 5,
   "id": "f0fa9c58-3171-4336-a54e-f8fe368d36ac",
   "metadata": {},
   "outputs": [],
   "source": [
    "rating = [] \n",
    "for row in df['risk_score']: \n",
    "    if row < 1.0 : rating.append('AA') \n",
    "    elif row < 2.0: rating.append('A') \n",
    "    elif row < 3.0: rating.append('BB') \n",
    "    elif row < 4.0: rating.append('B') \n",
    "    elif row < 5.0: rating.append('C') \n",
    "    else: rating.append('Not_Rated') "
   ]
  },
  {
   "cell_type": "code",
   "execution_count": 7,
   "id": "ff772055-7a8b-405c-967e-ab6773c29c11",
   "metadata": {},
   "outputs": [
    {
     "name": "stdout",
     "output_type": "stream",
     "text": [
      "     bond_name  risk_score rating\n",
      "0  govt_bond_1         1.6      A\n",
      "1  govt_bond_2         0.9     AA\n",
      "2  govt_bond_3         2.3     BB\n",
      "3   pvt_bond_1         3.0      B\n",
      "4   pvt_bond_2         2.7     BB\n",
      "5   pvt_bond_3         1.8      A\n",
      "6   pvt_bond_4         4.1      C\n"
     ]
    }
   ],
   "source": [
    "df['rating'] = rating \n",
    "print(df) "
   ]
  },
  {
   "cell_type": "code",
   "execution_count": null,
   "id": "e9293a9f-5391-408f-ab79-08353ce4a6a6",
   "metadata": {},
   "outputs": [],
   "source": []
  }
 ],
 "metadata": {
  "kernelspec": {
   "display_name": "Python 3 (ipykernel)",
   "language": "python",
   "name": "python3"
  },
  "language_info": {
   "codemirror_mode": {
    "name": "ipython",
    "version": 3
   },
   "file_extension": ".py",
   "mimetype": "text/x-python",
   "name": "python",
   "nbconvert_exporter": "python",
   "pygments_lexer": "ipython3",
   "version": "3.11.4"
  }
 },
 "nbformat": 4,
 "nbformat_minor": 5
}
