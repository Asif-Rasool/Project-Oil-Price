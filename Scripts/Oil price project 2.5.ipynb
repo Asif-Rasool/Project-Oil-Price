{
 "cells": [
  {
   "cell_type": "markdown",
   "id": "991ac202-a5bd-4280-8932-a2b2a22fc14f",
   "metadata": {},
   "source": [
    "# Setting up the environment (note: please use both R and python kernal for this script)"
   ]
  },
  {
   "cell_type": "markdown",
   "id": "470b2857-6768-4d3e-b03f-d915bb1bd8a5",
   "metadata": {},
   "source": [
    "## Loading python packages"
   ]
  },
  {
   "cell_type": "code",
   "execution_count": 1,
   "id": "ead62a50-7b29-45bc-83bc-770fcc1d4a65",
   "metadata": {},
   "outputs": [
    {
     "name": "stderr",
     "output_type": "stream",
     "text": [
      "C:\\ProgramData\\anaconda3\\Lib\\site-packages\\rpy2\\robjects\\packages.py:367: UserWarning: The symbol 'quartz' is not in this R namespace/package.\n",
      "  warnings.warn(\n"
     ]
    },
    {
     "ename": "PackageNotInstalledError",
     "evalue": "The R package \"rlang\" is not installed.",
     "output_type": "error",
     "traceback": [
      "\u001b[1;31m---------------------------------------------------------------------------\u001b[0m",
      "\u001b[1;31mPackageNotInstalledError\u001b[0m                  Traceback (most recent call last)",
      "Cell \u001b[1;32mIn[1], line 36\u001b[0m\n\u001b[0;32m     34\u001b[0m \u001b[38;5;28;01mfrom\u001b[39;00m \u001b[38;5;21;01mrpy2\u001b[39;00m\u001b[38;5;21;01m.\u001b[39;00m\u001b[38;5;21;01mrobjects\u001b[39;00m\u001b[38;5;21;01m.\u001b[39;00m\u001b[38;5;21;01mvectors\u001b[39;00m \u001b[38;5;28;01mimport\u001b[39;00m IntVector, FloatVector\n\u001b[0;32m     35\u001b[0m \u001b[38;5;28;01mimport\u001b[39;00m \u001b[38;5;21;01mrpy2\u001b[39;00m\u001b[38;5;21;01m.\u001b[39;00m\u001b[38;5;21;01mipython\u001b[39;00m\u001b[38;5;21;01m.\u001b[39;00m\u001b[38;5;21;01mhtml\u001b[39;00m\n\u001b[1;32m---> 36\u001b[0m \u001b[38;5;28;01mimport\u001b[39;00m \u001b[38;5;21;01mrpy2\u001b[39;00m\u001b[38;5;21;01m.\u001b[39;00m\u001b[38;5;21;01mrobjects\u001b[39;00m\u001b[38;5;21;01m.\u001b[39;00m\u001b[38;5;21;01mlib\u001b[39;00m\u001b[38;5;21;01m.\u001b[39;00m\u001b[38;5;21;01mggplot2\u001b[39;00m \u001b[38;5;28;01mas\u001b[39;00m \u001b[38;5;21;01mgp\u001b[39;00m\n\u001b[0;32m     37\u001b[0m \u001b[38;5;28;01mfrom\u001b[39;00m \u001b[38;5;21;01mrpy2\u001b[39;00m\u001b[38;5;21;01m.\u001b[39;00m\u001b[38;5;21;01mipython\u001b[39;00m\u001b[38;5;21;01m.\u001b[39;00m\u001b[38;5;21;01mggplot\u001b[39;00m \u001b[38;5;28;01mimport\u001b[39;00m image_png\n\u001b[0;32m     38\u001b[0m \u001b[38;5;28;01mimport\u001b[39;00m \u001b[38;5;21;01mrpy2\u001b[39;00m\u001b[38;5;21;01m.\u001b[39;00m\u001b[38;5;21;01mrinterface\u001b[39;00m \u001b[38;5;28;01mas\u001b[39;00m \u001b[38;5;21;01mrinterface\u001b[39;00m\n",
      "File \u001b[1;32mC:\\ProgramData\\anaconda3\\Lib\\site-packages\\rpy2\\robjects\\lib\\ggplot2.py:54\u001b[0m\n\u001b[0;32m     50\u001b[0m \u001b[38;5;28;01mimport\u001b[39;00m \u001b[38;5;21;01mwarnings\u001b[39;00m\n\u001b[0;32m     52\u001b[0m NULL \u001b[38;5;241m=\u001b[39m robjects\u001b[38;5;241m.\u001b[39mNULL\n\u001b[1;32m---> 54\u001b[0m rlang \u001b[38;5;241m=\u001b[39m importr(\u001b[38;5;124m'\u001b[39m\u001b[38;5;124mrlang\u001b[39m\u001b[38;5;124m'\u001b[39m, on_conflict\u001b[38;5;241m=\u001b[39m\u001b[38;5;124m'\u001b[39m\u001b[38;5;124mwarn\u001b[39m\u001b[38;5;124m'\u001b[39m,\n\u001b[0;32m     55\u001b[0m                 robject_translations\u001b[38;5;241m=\u001b[39m{\u001b[38;5;124m'\u001b[39m\u001b[38;5;124m.env\u001b[39m\u001b[38;5;124m'\u001b[39m: \u001b[38;5;124m'\u001b[39m\u001b[38;5;124m__env\u001b[39m\u001b[38;5;124m'\u001b[39m})\n\u001b[0;32m     56\u001b[0m lazyeval \u001b[38;5;241m=\u001b[39m importr(\u001b[38;5;124m'\u001b[39m\u001b[38;5;124mlazyeval\u001b[39m\u001b[38;5;124m'\u001b[39m, on_conflict\u001b[38;5;241m=\u001b[39m\u001b[38;5;124m'\u001b[39m\u001b[38;5;124mwarn\u001b[39m\u001b[38;5;124m'\u001b[39m)\n\u001b[0;32m     57\u001b[0m base \u001b[38;5;241m=\u001b[39m importr(\u001b[38;5;124m'\u001b[39m\u001b[38;5;124mbase\u001b[39m\u001b[38;5;124m'\u001b[39m, on_conflict\u001b[38;5;241m=\u001b[39m\u001b[38;5;124m'\u001b[39m\u001b[38;5;124mwarn\u001b[39m\u001b[38;5;124m'\u001b[39m)\n",
      "File \u001b[1;32mC:\\ProgramData\\anaconda3\\Lib\\site-packages\\rpy2\\robjects\\packages.py:472\u001b[0m, in \u001b[0;36mimportr\u001b[1;34m(name, lib_loc, robject_translations, signature_translation, suppress_messages, on_conflict, symbol_r2python, symbol_resolve, data)\u001b[0m\n\u001b[0;32m    440\u001b[0m \u001b[38;5;250m\u001b[39m\u001b[38;5;124;03m\"\"\" Import an R package.\u001b[39;00m\n\u001b[0;32m    441\u001b[0m \n\u001b[0;32m    442\u001b[0m \u001b[38;5;124;03mArguments:\u001b[39;00m\n\u001b[1;32m   (...)\u001b[0m\n\u001b[0;32m    468\u001b[0m \n\u001b[0;32m    469\u001b[0m \u001b[38;5;124;03m\"\"\"\u001b[39;00m\n\u001b[0;32m    471\u001b[0m \u001b[38;5;28;01mif\u001b[39;00m \u001b[38;5;129;01mnot\u001b[39;00m isinstalled(name, lib_loc\u001b[38;5;241m=\u001b[39mlib_loc):\n\u001b[1;32m--> 472\u001b[0m     \u001b[38;5;28;01mraise\u001b[39;00m PackageNotInstalledError(\n\u001b[0;32m    473\u001b[0m         \u001b[38;5;124m'\u001b[39m\u001b[38;5;124mThe R package \u001b[39m\u001b[38;5;124m\"\u001b[39m\u001b[38;5;132;01m%s\u001b[39;00m\u001b[38;5;124m\"\u001b[39m\u001b[38;5;124m is not installed.\u001b[39m\u001b[38;5;124m'\u001b[39m \u001b[38;5;241m%\u001b[39m name\n\u001b[0;32m    474\u001b[0m     )\n\u001b[0;32m    476\u001b[0m \u001b[38;5;28;01mif\u001b[39;00m suppress_messages:\n\u001b[0;32m    477\u001b[0m     ok \u001b[38;5;241m=\u001b[39m quiet_require(name, lib_loc\u001b[38;5;241m=\u001b[39mlib_loc)\n",
      "\u001b[1;31mPackageNotInstalledError\u001b[0m: The R package \"rlang\" is not installed."
     ]
    }
   ],
   "source": [
    "from statsmodels.tsa.stattools import adfuller\n",
    "import numpy as np\n",
    "import pandas as pd\n",
    "import matplotlib.pyplot as plt\n",
    "%matplotlib inline\n",
    "import openpyxl\n",
    "from openpyxl import load_workbook\n",
    "from openpyxl.drawing.image import Image\n",
    "from PIL import Image as PilImage\n",
    "\n",
    "# !pip install openpyxl_image_loader\n",
    "from openpyxl_image_loader import SheetImageLoader\n",
    "\n",
    "import PIL \n",
    "import pandas as pd # load and manipulate data for One-Hot ncoding\n",
    "import numpy as np # calculate the mean and std. dev. \n",
    "import matplotlib.pyplot as plt # to plot figures\n",
    "import seaborn as sns\n",
    "\n",
    "import os\n",
    "os.environ['R_HOME'] = r'C:\\Program Files\\R\\R-4.4.1'\n",
    "r_home = os.environ.get(\"R_HOME\")\n",
    "\n",
    "!pip install rpy2 --quiet\n",
    "import rpy2\n",
    "import rpy2.robjects as ro\n",
    "import rpy2.rinterface as ri\n",
    "from rpy2.robjects import r\n",
    "\n",
    "# Extra RPY2 items\n",
    "\n",
    "from rpy2.robjects.packages import importr\n",
    "from rpy2.robjects import pandas2ri\n",
    "from rpy2.robjects.vectors import IntVector, FloatVector\n",
    "import rpy2.ipython.html\n",
    "import rpy2.robjects.lib.ggplot2 as gp\n",
    "from rpy2.ipython.ggplot import image_png\n",
    "import rpy2.rinterface as rinterface\n",
    "\n",
    "rinterface.initr()\n",
    "pandas2ri.activate()\n",
    "\n",
    "%load_ext rpy2.ipython\n",
    "\n",
    "\n",
    "plt.style.use(\"fivethirtyeight\")"
   ]
  },
  {
   "cell_type": "markdown",
   "id": "17e65a03-4ef3-4fc4-b252-92f00b923fe2",
   "metadata": {},
   "source": [
    "## Loading R packages"
   ]
  },
  {
   "cell_type": "code",
   "execution_count": null,
   "id": "d7f0d2f0-dd60-4ecc-a24e-0675073f1d33",
   "metadata": {},
   "outputs": [],
   "source": [
    "%%R\n",
    "install.packages(\"htmltools\")\n",
    "suppressPackageStartupMessages(library(Microsoft365R))\n",
    "suppressPackageStartupMessages(library(strucchange))\n",
    "suppressPackageStartupMessages(library(tseries))\n",
    "suppressPackageStartupMessages(library(forecast))\n",
    "suppressPackageStartupMessages(library(seasonal))\n",
    "suppressPackageStartupMessages(library(seasonalview))\n",
    "suppressPackageStartupMessages(library(dplyr))\n",
    "suppressPackageStartupMessages(library(openxlsx))\n",
    "suppressPackageStartupMessages(library(readr))\n",
    "suppressPackageStartupMessages(library(Microsoft365R))\n",
    "suppressPackageStartupMessages(library(readxl))\n",
    "suppressPackageStartupMessages(library(writexl))\n",
    "suppressPackageStartupMessages(library(openxlsx))\n",
    "suppressPackageStartupMessages(library(knitr))"
   ]
  },
  {
   "cell_type": "markdown",
   "id": "83eb063d-3641-4c2e-a57d-b2c2c4ae0e05",
   "metadata": {},
   "source": [
    "# Loading data "
   ]
  },
  {
   "cell_type": "markdown",
   "id": "43b76b39-5d6e-4dc0-8f9e-d39f7593799d",
   "metadata": {},
   "source": [
    "## Minor clean up"
   ]
  },
  {
   "cell_type": "code",
   "execution_count": null,
   "id": "df363929-4958-42a9-9220-b8f3f1b44a06",
   "metadata": {},
   "outputs": [],
   "source": [
    "df = pd.DataFrame(pd.read_excel(r'C:\\Users\\asifr\\OneDrive - State of New Mexico\\Documents\\Project Oil Price\\Outputs\\pred_sead_n_plots.xlsx', sheet_name = 'df_final'))\n",
    "df_pred = pd.DataFrame(pd.read_excel(r'C:\\Users\\asifr\\OneDrive - State of New Mexico\\Documents\\Project Oil Price\\Outputs\\df_pred_final.xlsx', sheet_name = 'df_pred'))\n",
    "pd.options.display.max_columns = 500\n",
    "# pd.options.display.max_rows = 500\n",
    "df = df[df['index_china_gdp_sead'].notna()]\n",
    "df['sv'] = ''"
   ]
  },
  {
   "cell_type": "code",
   "execution_count": null,
   "id": "b959b1e2-ac05-41d8-8189-0ead8242479d",
   "metadata": {},
   "outputs": [],
   "source": [
    "df"
   ]
  },
  {
   "cell_type": "markdown",
   "id": "eadddf5a-30fa-4510-a68d-6c9035aa6624",
   "metadata": {},
   "source": [
    "## Dropping non-regressors"
   ]
  },
  {
   "cell_type": "code",
   "execution_count": null,
   "id": "1ec35f62-fd38-4cca-8c87-285a76ab2a87",
   "metadata": {},
   "outputs": [],
   "source": [
    "df.drop(['nm_oil_price_sead', 'wti_spot_price_sea', 'brent_spot_price_sea', 'index_china_gdp_sea', 'index_china_gdp_sead', 'index_us_gdp_sea',\\\n",
    "         'us_unemploy_sea', 'index_ip_mining_sea', 'index_cpi_china_sea', 'opec_sea', 'non_opec_sea', 'del_supply_nonopec_sea', 'oecd_inventory_sea',\\\n",
    "         'del_world_consump_sea'], \n",
    "        axis = 1, inplace = True) # we set axis = 1 to remove columns, axis = 0 to remove rows. And inplace means we are modifying our dataframe, \n",
    "                                    # we ae not making a copy`"
   ]
  },
  {
   "cell_type": "markdown",
   "id": "8d6e18d0-1e1f-422c-810d-53a27587acff",
   "metadata": {},
   "source": [
    "## Renaming variables for the ease of use"
   ]
  },
  {
   "cell_type": "code",
   "execution_count": null,
   "id": "7e742822-eeaa-4233-b4a1-a87b98778347",
   "metadata": {},
   "outputs": [],
   "source": [
    "df.rename(columns = {\"Unnamed: 0\": \"Date\", \"dubai_price_sea\" : \"dubai_price_sead\", \"index_cboe_volt_sea\"  : \"index_cboe_volt_sead\", \"index_cpi_us_sea\" : \"index_cpi_us_sead\",\\\n",
    "                    \"index_energy_sea\" : \"index_energy_sead\", \"index_metal_sea\" : \"index_metal_sead\", \"index_precious_sea\" : \"index_precious_sead\",\"del_cap_per_sea\"\\\n",
    "                    : \"del_cap_per_sead\", \"del_world_gdp_per_sea\": \"del_world_gdp_per_sead\", \"del_supply_saudi_sea\": \"del_supply_saudi_sead\",\\\n",
    "                    \"opec_spare_capacity_sea\": \"opec_spare_capacity_sead\", \"index_china_gdp_sead_1\": \"index_china_gdp_sead\"}, inplace = True)"
   ]
  },
  {
   "cell_type": "markdown",
   "id": "4931fbe1-d8b0-4321-add7-c97023f849c7",
   "metadata": {},
   "source": [
    "# Creating structural break variables"
   ]
  },
  {
   "cell_type": "markdown",
   "id": "45544260-ac7c-4fe7-bf02-7974eb99bd9e",
   "metadata": {},
   "source": [
    "## 911 attacks: sv_911"
   ]
  },
  {
   "cell_type": "code",
   "execution_count": null,
   "id": "67efcdb7-b3a9-4b66-b256-5f2cd85c741d",
   "metadata": {},
   "outputs": [],
   "source": [
    "pd.set_option('mode.chained_assignment', None)\n",
    "sv_911 = df.loc[(df['Date'] >= '2001-01-01') & (df['Date'] <= '2002-12-30')] \n",
    "sv_911['sv'] = ('sv_911')\n",
    "sv_911['Date'] = pd.to_datetime(sv_911['Date'])\n",
    "sv_911 = sv_911.set_index('Date')"
   ]
  },
  {
   "cell_type": "markdown",
   "id": "47603303-bff8-40bb-a749-562403973079",
   "metadata": {},
   "source": [
    "## Low spare capacity: sv_lpc"
   ]
  },
  {
   "cell_type": "code",
   "execution_count": null,
   "id": "1e02bc16-6224-4a06-b866-3c692b2dab83",
   "metadata": {},
   "outputs": [],
   "source": [
    "pd.set_option('mode.chained_assignment', None)\n",
    "sv_lpc = df.loc[(df['Date'] >= '2005-04-01') & (df['Date'] <= '2006-10-01')]\n",
    "sv_lpc['sv'] = ('sv_lpc')\n",
    "sv_lpc['Date'] = pd.to_datetime(sv_lpc['Date'])\n",
    "sv_lpc = sv_lpc.set_index('Date')"
   ]
  },
  {
   "cell_type": "markdown",
   "id": "16e46f0b-36c9-4532-80c0-334fe3c2a94c",
   "metadata": {},
   "source": [
    "## Global financial collapse: sv_gfc"
   ]
  },
  {
   "cell_type": "code",
   "execution_count": null,
   "id": "057c7b74-75c2-4a2f-883e-456fc62abda9",
   "metadata": {},
   "outputs": [],
   "source": [
    "pd.set_option('mode.chained_assignment', None)\n",
    "sv_gfc = df.loc[(df['Date'] >= '2007-01-01') & (df['Date'] <= '2008-12-30')]\n",
    "sv_gfc['sv'] = ('sv_gfc')\n",
    "sv_gfc['Date'] = pd.to_datetime(sv_gfc['Date'])\n",
    "sv_gfc = sv_gfc.set_index('Date')"
   ]
  },
  {
   "cell_type": "markdown",
   "id": "9dd44bf1-e4ae-4912-a70e-7431d65dbea8",
   "metadata": {},
   "source": [
    "## OPEC production cut: sv_opec"
   ]
  },
  {
   "cell_type": "code",
   "execution_count": null,
   "id": "7fe92d74-5612-4f7e-8bfd-92873ee555b0",
   "metadata": {},
   "outputs": [],
   "source": [
    "pd.set_option('mode.chained_assignment', None)\n",
    "sv_opec = df.loc[(df['Date'] >= '2015-01-01') & (df['Date'] <= '2016-12-30')]\n",
    "sv_opec['sv'] = ('sv_opec')\n",
    "sv_opec['Date'] = pd.to_datetime(sv_opec['Date'])\n",
    "sv_opec = sv_opec.set_index('Date')"
   ]
  },
  {
   "cell_type": "markdown",
   "id": "beb8d467-c6cd-4a64-8d58-282cc6e6c79f",
   "metadata": {},
   "source": [
    "## Global pandemic: sv_covid19"
   ]
  },
  {
   "cell_type": "code",
   "execution_count": null,
   "id": "6f667a15-4238-48d3-803c-0cdbeb6cfc7b",
   "metadata": {},
   "outputs": [],
   "source": [
    "pd.set_option('mode.chained_assignment', None)\n",
    "sv_covid19 = df.loc[(df['Date'] >= '2019-06-01') & (df['Date'] <= '2020-12-30')]\n",
    "sv_covid19['sv'] = ('sv_covid19')\n",
    "sv_covid19['Date'] = pd.to_datetime(sv_covid19['Date'])\n",
    "sv_covid19 = sv_covid19.set_index('Date')"
   ]
  },
  {
   "cell_type": "markdown",
   "id": "4d9ec25f-d035-4b4a-9a02-5d8461420d63",
   "metadata": {},
   "source": [
    "## Russia-ukrain conflict: sv_con22"
   ]
  },
  {
   "cell_type": "code",
   "execution_count": null,
   "id": "7076ac19-ad56-46c8-bf80-cc467598e98b",
   "metadata": {},
   "outputs": [],
   "source": [
    "pd.set_option('mode.chained_assignment', None)\n",
    "sv_con22 = df.loc[(df['Date'] >= '2022-01-01') & (df['Date'] <= '2022-12-30')]\n",
    "sv_con22['sv'] = ('sv_con22')\n",
    "sv_con22['Date'] = pd.to_datetime(sv_con22['Date'])\n",
    "sv_con22 = sv_con22.set_index('Date')"
   ]
  },
  {
   "cell_type": "markdown",
   "id": "21eaf692-4c0e-443c-aa8d-603ce4678467",
   "metadata": {},
   "source": [
    "# Adding the structual variables to the dataset"
   ]
  },
  {
   "cell_type": "code",
   "execution_count": null,
   "id": "28b842bc-4909-4e1d-8ad1-ca9bbeedf685",
   "metadata": {},
   "outputs": [],
   "source": [
    "df['Date'] = pd.to_datetime(df['Date'])\n",
    "df = df.set_index('Date')\n"
   ]
  },
  {
   "cell_type": "code",
   "execution_count": null,
   "id": "028a81ba-663d-498c-9e40-80757f8c5bd0",
   "metadata": {},
   "outputs": [],
   "source": [
    "df = df.drop(pd.date_range('2001-01-01', '2002-12-30'), errors='ignore')\n",
    "df = df.drop(pd.date_range('2005-04-01', '2006-10-01'), errors='ignore')\n",
    "df = df.drop(pd.date_range('2007-01-01', '2008-12-30'), errors='ignore')\n",
    "df = df.drop(pd.date_range('2015-01-01', '2016-12-30'), errors='ignore')\n",
    "df = df.drop(pd.date_range('2019-06-01', '2020-12-30'), errors='ignore')\n",
    "df = df.drop(pd.date_range('2022-01-01', '2022-12-30'), errors='ignore')"
   ]
  },
  {
   "cell_type": "code",
   "execution_count": null,
   "id": "c0d36464-b886-4fbd-a250-56de09e30006",
   "metadata": {},
   "outputs": [],
   "source": [
    "df = pd.concat([sv_911, sv_lpc, sv_gfc, sv_opec, sv_covid19, sv_con22, df], ignore_index = False)\n",
    "df.sort_index(inplace=True)"
   ]
  },
  {
   "cell_type": "code",
   "execution_count": null,
   "id": "c692d473-43c8-44ce-b305-3578dc87c164",
   "metadata": {},
   "outputs": [],
   "source": [
    "df"
   ]
  },
  {
   "cell_type": "markdown",
   "id": "331efff6-5118-40f0-9922-91a86057a838",
   "metadata": {},
   "source": [
    "## Some last moment clean-up"
   ]
  },
  {
   "cell_type": "code",
   "execution_count": null,
   "id": "b836a01a-4a58-4d10-a313-50c30a259283",
   "metadata": {},
   "outputs": [],
   "source": [
    "df = pd.concat([df, pd.get_dummies(df['sv']).astype(int)], axis=1)\n",
    "df.rename(columns = {\"\": \"remove\"}, inplace = True)\n",
    "df.drop(['sv', 'remove'], axis = 1, inplace = True)"
   ]
  },
  {
   "cell_type": "code",
   "execution_count": null,
   "id": "c06a8f46-13e3-40f0-8146-a8b45253646a",
   "metadata": {},
   "outputs": [],
   "source": [
    "pd.options.display.max_rows = 500\n",
    "df_pred"
   ]
  },
  {
   "cell_type": "markdown",
   "id": "47ea469c-22db-4df6-9aba-7a480b296dfa",
   "metadata": {},
   "source": [
    "# Exporting the dataset to an Excel file"
   ]
  },
  {
   "cell_type": "code",
   "execution_count": null,
   "id": "d7c5d36c-4cb1-4b7d-b177-ce4b9cae3787",
   "metadata": {},
   "outputs": [],
   "source": [
    "# Create a Pandas Excel writer using XlsxWriter as the engine.\n",
    "writer = pd.ExcelWriter(r'C:\\Users\\asifr\\OneDrive - State of New Mexico\\Documents\\Project Oil Price\\Outputs\\df_final.xlsx', engine='xlsxwriter')\n",
    "\n",
    "# Convert the dataframe to an XlsxWriter Excel object.\n",
    "\n",
    "df.index = df.index.date\n",
    "df.index.name = 'Date'\n",
    "df.to_excel(writer, sheet_name='df')\n",
    "\n",
    "# Get the xlsxwriter workbook and worksheet objects.\n",
    "workbook  = writer.book\n",
    "worksheet = writer.sheets['df']\n",
    "writer.close()"
   ]
  },
  {
   "cell_type": "markdown",
   "id": "53521ff5-e091-441d-a60c-8644e25b50eb",
   "metadata": {},
   "source": [
    "# Merging the dataframes "
   ]
  },
  {
   "cell_type": "code",
   "execution_count": null,
   "id": "c65f1317-117f-4757-88f3-21c35e5bc1c0",
   "metadata": {},
   "outputs": [],
   "source": [
    "%%R\n",
    "\n",
    "# odb <- get_business_onedrive()\n",
    "# data_unadjusted <- odb$load_dataframe(\"Documents/Project Oil Price/dat.csv\")\n",
    "df_final <- read_xlsx(\"C:/Users/asifr/OneDrive - State of New Mexico/Documents/Project Oil Price/Outputs/df_final.xlsx\")\n",
    "df_pred <- read_xlsx(\"C:/Users/asifr/OneDrive - State of New Mexico/Documents/Project Oil Price/Outputs/df_pred_final.xlsx\")\n",
    "\n",
    "df_final<- rbind(df_final, df_pred)\n",
    "\n",
    "# # Using openxlsx\n",
    "suppressPackageStartupMessages(library(openxlsx))\n",
    "\n",
    "OUT <- createWorkbook()\n",
    "\n",
    "# ## adding some worksheet to the workbook OUT\n",
    "\n",
    "addWorksheet(OUT, \"df\")\n",
    "\n",
    "# ## Writing the data to the worksheets\n",
    "\n",
    "writeData(OUT, sheet = \"df\", x = df_final)\n",
    "\n",
    "                      \n",
    "# # Exporting the file\n",
    "\n",
    "saveWorkbook(OUT, \"C:/Users/asifr/OneDrive - State of New Mexico/Documents/Project Oil Price/Outputs/df_final.xlsx\", overwrite = TRUE)"
   ]
  }
 ],
 "metadata": {
  "kernelspec": {
   "display_name": "Python 3 (ipykernel)",
   "language": "python",
   "name": "python3"
  },
  "language_info": {
   "codemirror_mode": {
    "name": "ipython",
    "version": 3
   },
   "file_extension": ".py",
   "mimetype": "text/x-python",
   "name": "python",
   "nbconvert_exporter": "python",
   "pygments_lexer": "ipython3",
   "version": "3.11.7"
  }
 },
 "nbformat": 4,
 "nbformat_minor": 5
}
