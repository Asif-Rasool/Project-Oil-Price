{
 "cells": [
  {
   "cell_type": "code",
   "execution_count": null,
   "id": "42322523-9f5b-462a-b57b-792ee18b735f",
   "metadata": {},
   "outputs": [],
   "source": [
    "\n",
    "gc()\n",
    "\n",
    "# Determining structural breaks in time-series\n",
    "# AuthorL Asif Rasool\n",
    "# Date: 9/5/2023\n",
    "# Useful links:\n",
    "#   - https://cran.r-project.org/web/packages/Microsoft365R/vignettes/od_sp.html \n",
    "\n",
    "\n",
    "# Install Packages\n",
    "# install.packages(\"Microsoft365R\")\n",
    "# install.packages(\"strucchange\")\n",
    "# install.packages(\"tseries\")\n",
    "\n",
    "# Load required packages\n",
    "suppressPackageStartupMessages(library(Microsoft365R))\n",
    "suppressPackageStartupMessages(library(strucchange))\n",
    "suppressPackageStartupMessages(library(tseries))\n",
    "\n",
    "\n",
    "\n",
    "# Get files from one drive\n",
    "\n",
    "odb <- get_business_onedrive()\n",
    "# data <- odb$load_dataframe(\"Documents/Project Oil Price/dat.csv\")\n",
    "data <- load_dataframe(\"C:/Users/asifr/OneDrive - The Pennsylvania State University/Documents/GitHub/Project-Oil-Price/dat.csv\")\n",
    "attach(data)\n",
    "\n",
    "## Creating time series: nm_oil_price\n",
    "\n",
    "nm_oil_price.ts <- ts(nm_oil_price, start = 2001, end = 2020, frequency = 4)\n",
    "wti_spot_price.ts <- ts(wti_spot_price, start = 2001, end = 2020, frequency = 4)\n",
    "index_china_gdp.ts <- ts(index_china_gdp, start = 2001, end = 2020, frequency = 4)\n",
    "\n",
    "plot.ts(nm_oil_price.ts)\n",
    "plot(wti_spot_price.ts)\n",
    "plot(index_china_gdp.ts)\n",
    "\n",
    "## Calculate the breakpoints: \n",
    "nm_oil_price.bp <- breakpoints(nm_oil_price.ts ~ 1, h = 12)\n",
    "wti_spot_price.bp <- breakpoints(wti_spot_price.ts~1, h = 12)\n",
    "index_china_gdp.bp <- breakpoints(index_china_gdp.ts ~ 1, h =12)\n",
    "\n",
    "summary(nm_oil_price.bp)\n",
    "summary(wti_spot_price.bp)\n",
    "summary(index_china_gdp.bp)\n",
    "\n",
    "coef(nm_oil_price.bp)\n"
   ]
  },
  {
   "cell_type": "code",
   "execution_count": null,
   "id": "12e447c8-eb02-4b96-ae5d-e05d62d42417",
   "metadata": {},
   "outputs": [],
   "source": []
  }
 ],
 "metadata": {
  "kernelspec": {
   "display_name": "R",
   "language": "R",
   "name": "ir"
  },
  "language_info": {
   "codemirror_mode": "r",
   "file_extension": ".r",
   "mimetype": "text/x-r-source",
   "name": "R",
   "pygments_lexer": "r",
   "version": "4.3.1"
  }
 },
 "nbformat": 4,
 "nbformat_minor": 5
}
