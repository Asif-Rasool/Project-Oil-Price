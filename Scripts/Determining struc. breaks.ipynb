{
 "cells": [
  {
   "cell_type": "code",
   "execution_count": 1,
   "id": "6e564991-e2ca-4636-b1a7-472b9e2a8eb7",
   "metadata": {},
   "outputs": [
    {
     "data": {
      "text/html": [
       "<table class=\"dataframe\">\n",
       "<caption>A matrix: 2 × 6 of type dbl</caption>\n",
       "<thead>\n",
       "\t<tr><th></th><th scope=col>used</th><th scope=col>(Mb)</th><th scope=col>gc trigger</th><th scope=col>(Mb)</th><th scope=col>max used</th><th scope=col>(Mb)</th></tr>\n",
       "</thead>\n",
       "<tbody>\n",
       "\t<tr><th scope=row>Ncells</th><td> 627592</td><td>33.6</td><td>1404244</td><td>75</td><td>1196368</td><td>63.9</td></tr>\n",
       "\t<tr><th scope=row>Vcells</th><td>1151381</td><td> 8.8</td><td>8388608</td><td>64</td><td>1770414</td><td>13.6</td></tr>\n",
       "</tbody>\n",
       "</table>\n"
      ],
      "text/latex": [
       "A matrix: 2 × 6 of type dbl\n",
       "\\begin{tabular}{r|llllll}\n",
       "  & used & (Mb) & gc trigger & (Mb) & max used & (Mb)\\\\\n",
       "\\hline\n",
       "\tNcells &  627592 & 33.6 & 1404244 & 75 & 1196368 & 63.9\\\\\n",
       "\tVcells & 1151381 &  8.8 & 8388608 & 64 & 1770414 & 13.6\\\\\n",
       "\\end{tabular}\n"
      ],
      "text/markdown": [
       "\n",
       "A matrix: 2 × 6 of type dbl\n",
       "\n",
       "| <!--/--> | used | (Mb) | gc trigger | (Mb) | max used | (Mb) |\n",
       "|---|---|---|---|---|---|---|\n",
       "| Ncells |  627592 | 33.6 | 1404244 | 75 | 1196368 | 63.9 |\n",
       "| Vcells | 1151381 |  8.8 | 8388608 | 64 | 1770414 | 13.6 |\n",
       "\n"
      ],
      "text/plain": [
       "       used    (Mb) gc trigger (Mb) max used (Mb)\n",
       "Ncells  627592 33.6 1404244    75   1196368  63.9\n",
       "Vcells 1151381  8.8 8388608    64   1770414  13.6"
      ]
     },
     "metadata": {},
     "output_type": "display_data"
    },
    {
     "name": "stderr",
     "output_type": "stream",
     "text": [
      "Loading Microsoft Graph login for default tenant\n",
      "\n",
      "Access token has expired or is no longer valid; refreshing\n",
      "\n"
     ]
    },
    {
     "name": "stdout",
     "output_type": "stream",
     "text": [
      "Error in process_aad_response(res) : \n",
      "  Bad Request (HTTP 400). Failed to obtain Azure Active Directory token. Message:\n",
      "AADSTS70043: The refresh token has expired or is invalid due to sign-in frequency checks by conditional access. The token was issued on 2023-10-11T22:33:20.4419786Z and the maximum allowed lifetime for this request is 604800. Trace ID: 86c10790-195a-4164-ad1f-746252705a00 Correlation ID: c38d7e78-f686-4730-857e-0e563475c921 Timestamp: 2023-11-03 22:01:34Z.\n"
     ]
    },
    {
     "ename": "ERROR",
     "evalue": "Error: Unable to refresh token\n",
     "output_type": "error",
     "traceback": [
      "Error: Unable to refresh token\nTraceback:\n",
      "1. get_business_onedrive()",
      "2. do_login(tenant, app, scopes, token, ...)$get_user()",
      "3. az_user$new(self$token, self$tenant, self$call_graph_endpoint(op))",
      "4. initialize(...)",
      "5. super$initialize(token, tenant, properties)",
      "6. self$call_graph_endpoint(op)",
      "7. call_graph_endpoint(self$token, op, ...)",
      "8. call_graph_url(token, url, ...)",
      "9. process_headers(token, url, auto_refresh)",
      "10. token$refresh()",
      "11. stop(\"Unable to refresh token\", call. = FALSE)"
     ]
    }
   ],
   "source": [
    "\n",
    "gc()\n",
    "\n",
    "# Determining structural breaks in time-series\n",
    "# AuthorL Asif Rasool\n",
    "# Date: 9/5/2023\n",
    "# Useful links:\n",
    "#   - https://cran.r-project.org/web/packages/Microsoft365R/vignettes/od_sp.html \n",
    "\n",
    "\n",
    "# Install Packages\n",
    "# install.packages(\"Microsoft365R\")\n",
    "# install.packages(\"strucchange\")\n",
    "# install.packages(\"tseries\")\n",
    "\n",
    "# Load required packages\n",
    "suppressPackageStartupMessages(library(Microsoft365R))\n",
    "suppressPackageStartupMessages(library(strucchange))\n",
    "suppressPackageStartupMessages(library(tseries))\n",
    "\n",
    "\n",
    "\n",
    "# Get files from one drive\n",
    "\n",
    "odb <- get_business_onedrive()\n",
    "data <- odb$load_dataframe(\"Documents/Project Oil Price/dat.csv\")\n",
    "attach(data)\n",
    "\n",
    "## Creating time series: nm_oil_price\n",
    "\n",
    "nm_oil_price.ts <- ts(nm_oil_price, start = 2001, end = 2020, frequency = 4)\n",
    "wti_spot_price.ts <- ts(wti_spot_price, start = 2001, end = 2020, frequency = 4)\n",
    "index_china_gdp.ts <- ts(index_china_gdp, start = 2001, end = 2020, frequency = 4)\n",
    "\n",
    "plot.ts(nm_oil_price.ts)\n",
    "plot(wti_spot_price.ts)\n",
    "plot(index_china_gdp.ts)\n",
    "\n",
    "## Calculate the breakpoints: \n",
    "nm_oil_price.bp <- breakpoints(nm_oil_price.ts ~ 1, h = 12)\n",
    "wti_spot_price.bp <- breakpoints(wti_spot_price.ts~1, h = 12)\n",
    "index_china_gdp.bp <- breakpoints(index_china_gdp.ts ~ 1, h =12)\n",
    "\n",
    "summary(nm_oil_price.bp)\n",
    "summary(wti_spot_price.bp)\n",
    "summary(index_china_gdp.bp)"
   ]
  }
 ],
 "metadata": {
  "kernelspec": {
   "display_name": "R",
   "language": "R",
   "name": "ir"
  },
  "language_info": {
   "codemirror_mode": "r",
   "file_extension": ".r",
   "mimetype": "text/x-r-source",
   "name": "R",
   "pygments_lexer": "r",
   "version": "4.3.1"
  }
 },
 "nbformat": 4,
 "nbformat_minor": 5
}
